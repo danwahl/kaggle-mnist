{
 "cells": [
  {
   "cell_type": "code",
   "execution_count": 1,
   "metadata": {
    "collapsed": false
   },
   "outputs": [
    {
     "name": "stdout",
     "output_type": "stream",
     "text": [
      "Populating the interactive namespace from numpy and matplotlib\n"
     ]
    }
   ],
   "source": [
    "%pylab inline\n",
    "from sklearn import cross_validation, metrics, neighbors, datasets"
   ]
  },
  {
   "cell_type": "code",
   "execution_count": 2,
   "metadata": {
    "collapsed": false
   },
   "outputs": [],
   "source": [
    "# load train and test data\n",
    "mnist_train = np.loadtxt('../data/train.csv', delimiter=',', dtype=int, skiprows=1)\n",
    "mnist_test = np.loadtxt('../data/test.csv', delimiter=',', dtype=int, skiprows=1)"
   ]
  },
  {
   "cell_type": "code",
   "execution_count": 3,
   "metadata": {
    "collapsed": true
   },
   "outputs": [],
   "source": [
    "# split the data into training and validation sets\n",
    "X_train, X_test, y_train, y_test = cross_validation.train_test_split(mnist_train[:,1:], mnist_train[:,0])"
   ]
  },
  {
   "cell_type": "code",
   "execution_count": null,
   "metadata": {
    "collapsed": false
   },
   "outputs": [
    {
     "data": {
      "text/plain": [
       "KNeighborsClassifier(algorithm='auto', leaf_size=30, metric='minkowski',\n",
       "           metric_params=None, n_neighbors=1, p=2, weights='uniform')"
      ]
     },
     "execution_count": 4,
     "metadata": {},
     "output_type": "execute_result"
    }
   ],
   "source": [
    "# train nn on train data\n",
    "knn = neighbors.KNeighborsClassifier(n_neighbors=1)\n",
    "knn.fit(X_train, y_train)"
   ]
  },
  {
   "cell_type": "code",
   "execution_count": null,
   "metadata": {
    "collapsed": true
   },
   "outputs": [],
   "source": [
    "# predict test data\n",
    "Z = knn.predict(X_test)"
   ]
  },
  {
   "cell_type": "code",
   "execution_count": 14,
   "metadata": {
    "collapsed": false
   },
   "outputs": [
    {
     "data": {
      "text/plain": [
       "0.96657142857142853"
      ]
     },
     "execution_count": 14,
     "metadata": {},
     "output_type": "execute_result"
    }
   ],
   "source": [
    "# accuracy\n",
    "matches = (Z == y_test)\n",
    "matches.sum() / float(len(matches))"
   ]
  },
  {
   "cell_type": "code",
   "execution_count": 19,
   "metadata": {
    "collapsed": false
   },
   "outputs": [
    {
     "name": "stdout",
     "output_type": "stream",
     "text": [
      "             precision    recall  f1-score   support\n",
      "\n",
      "          0       0.99      0.98      0.99       994\n",
      "          1       1.00      0.97      0.98      1174\n",
      "          2       0.97      0.99      0.98      1031\n",
      "          3       0.95      0.96      0.96      1084\n",
      "          4       0.96      0.97      0.97      1013\n",
      "          5       0.95      0.95      0.95       968\n",
      "          6       0.98      0.98      0.98      1026\n",
      "          7       0.98      0.96      0.97      1130\n",
      "          8       0.93      0.98      0.95       966\n",
      "          9       0.96      0.94      0.95      1114\n",
      "\n",
      "avg / total       0.97      0.97      0.97     10500\n",
      "\n"
     ]
    }
   ],
   "source": [
    "#f1 score\n",
    "print metrics.classification_report(Z, y_test)"
   ]
  },
  {
   "cell_type": "code",
   "execution_count": 16,
   "metadata": {
    "collapsed": false
   },
   "outputs": [
    {
     "name": "stdout",
     "output_type": "stream",
     "text": [
      "[[ 972    0    5    2    0    2    7    0    2    4]\n",
      " [   0 1134    8    1   10    2    2    5   10    2]\n",
      " [   0    0 1016    9    0    0    0    3    3    0]\n",
      " [   0    0    3 1043    0   20    1    0   12    5]\n",
      " [   0    2    2    0  985    1    4    3    2   14]\n",
      " [   1    0    0   19    0  922    8    0   18    0]\n",
      " [   2    1    0    1    2   10 1005    0    5    0]\n",
      " [   0    2   14    8    1    0    0 1081    4   20]\n",
      " [   1    0    4   11    0    2    0    0  946    2]\n",
      " [   1    0    0    6   25    7    0   12   18 1045]]\n"
     ]
    }
   ],
   "source": [
    "# confusion matrix\n",
    "print metrics.confusion_matrix(Z, y_test)"
   ]
  },
  {
   "cell_type": "code",
   "execution_count": 17,
   "metadata": {
    "collapsed": true
   },
   "outputs": [],
   "source": [
    "Z_test = knn.predict(mnist_test)"
   ]
  }
 ],
 "metadata": {
  "kernelspec": {
   "display_name": "Python 2",
   "language": "python",
   "name": "python2"
  },
  "language_info": {
   "codemirror_mode": {
    "name": "ipython",
    "version": 2
   },
   "file_extension": ".py",
   "mimetype": "text/x-python",
   "name": "python",
   "nbconvert_exporter": "python",
   "pygments_lexer": "ipython2",
   "version": "2.7.9"
  }
 },
 "nbformat": 4,
 "nbformat_minor": 0
}
